{
 "cells": [
  {
   "cell_type": "markdown",
   "metadata": {},
   "source": [
    "##### The assessors reports are going to be the ones labelled:\n",
    "\n",
    "·         AEOP- The Analyst- Candidate Name\n",
    "\n",
    "·         NARGD- Management Trainee Committee- Candidate Name\n",
    "\n",
    " \n",
    "\n",
    "These are the documents that are going to be merged. Please note the competencies that are being assessed in the various exercises as per the matrix below. Where there is a grey square it means that that competency is not being assessed in that exercise. For example, Planning and Organizing was not assessed in the Group Discussion but was assessed in the Oral Presentation, Leadership was assessed in the Group Discussion but not in the Oral Presentation."
   ]
  },
  {
   "cell_type": "markdown",
   "metadata": {},
   "source": [
    "## to do\n",
    "1.    Write the candidate name (on the first page and as a header for each page)\n",
    "2.    As discussed, ensure that the content for the Group Discussion goes under each of the correct competencies and Oral Presentation the same.\n",
    "3.    Retain the page title Assessment Centre Overall Performance that page will have graphs which will be added manually (unless you have a suggestion as to how it can be added from excel as well).\n",
    "4.    Retain the last page of the template (the blue one)\n",
    "5.    Download as per the candidate name (not an urgent thing but if it can that’d be great).\n"
   ]
  },
  {
   "cell_type": "markdown",
   "metadata": {},
   "source": [
    "![Image](Capture.png)"
   ]
  },
  {
   "cell_type": "code",
   "execution_count": 2,
   "metadata": {},
   "outputs": [],
   "source": [
    "import docx\n",
    "from docx.api import Document"
   ]
  },
  {
   "cell_type": "code",
   "execution_count": 12,
   "metadata": {},
   "outputs": [],
   "source": [
    "def merge(docv):\n",
    "    files=[\"start.docx\",docv,\"stop.docx\"]\n",
    "    merged_document = Document()\n",
    "    for index, file in enumerate(files):\n",
    "        sub_doc = Document(file)\n",
    "        # Don't add a page break if you've reached the last file.\n",
    "        if index < len(files)-1:\n",
    "            sub_doc.add_page_break()\n",
    "        for element in sub_doc.element.body:\n",
    "            merged_document.element.body.append(element)\n",
    "    merged_document.save('merged.docx')\n",
    "    print(\"merged\")\n"
   ]
  },
  {
   "cell_type": "code",
   "execution_count": 1,
   "metadata": {},
   "outputs": [],
   "source": [
    "def read_table(docv):\n",
    "    document = Document(docv)\n",
    "    table = document.tables[1]\n",
    "    table_info=document.tables[0]\n",
    "    data = []\n",
    "    info=[]\n",
    "    keys = None\n",
    "    for i, row in enumerate(table_info.rows):\n",
    "        text = [cell.text for cell in row.cells]\n",
    "        info.append(text)\n",
    "        \n",
    "    for i, row in enumerate(table.rows):\n",
    "        text = (cell.text for cell in row.cells)\n",
    "        keys=(\"number\",\"title\",\"comments\",\"no\")\n",
    "        row_data = dict(zip(keys, text))\n",
    "        data.append(row_data)\n",
    "    return [data,info]\n",
    "print(read_table())"
   ]
  },
  {
   "cell_type": "code",
   "execution_count": 14,
   "metadata": {},
   "outputs": [],
   "source": [
    "def merger(data,datax):\n",
    "    #data=read_table('ok.docx')meeting\n",
    "    #datax=read_table('oral.docx')oral\n",
    "    list_of_meeting_title=[]\n",
    "    list_of_meeting_comments=[]\n",
    "    list_of_oral_title=[]\n",
    "    list_of_oral_comments=[]\n",
    "    for x in data:\n",
    "        list_of_meeting_title.append(x['title'])\n",
    "        list_of_meeting_comments.append(x['comments'])\n",
    "    for x in datax:\n",
    "        list_of_oral_title.append(x['title'])\n",
    "        list_of_oral_comments.append(x['comments'])\n",
    "    print(list_of_meeting_title)    \n",
    "    documentx = Document(\"start.docx\")\n",
    "    documentx.add_page_break()\n",
    "    x=0\n",
    "    larger=[]\n",
    "    print(len(list_of_meeting_title))\n",
    "    print(len(list_of_oral_title))\n",
    "    \n",
    "    if len(list_of_meeting_title)>len(list_of_oral_title):\n",
    "        xc=len(list_of_meeting_title)\n",
    "        larger=list_of_meeting_title\n",
    "    else:\n",
    "        xc=len(list_of_oral_title)\n",
    "        larger=list_of_oral_title\n",
    "        \n",
    "    while x<xc:\n",
    "        documentx.add_heading(larger[x], level=1)\n",
    "        try:\n",
    "            ji=list_of_meeting_comments[x]\n",
    "            p = documentx.add_paragraph('\\n')\n",
    "            p.add_run('Meeting\\n').bold = True\n",
    "            p.add_run(list_of_meeting_comments[x])\n",
    "        except Exception as e:\n",
    "            print(e)\n",
    "            \n",
    "        try:\n",
    "            ji=list_of_oral_comments[x]\n",
    "            p = documentx.add_paragraph('\\n')\n",
    "            p.add_run('Oral Presentation\\n').bold = True\n",
    "            p.add_run(list_of_oral_comments[x])\n",
    "        except Exception as e:\n",
    "            print(e)\n",
    "        documentx.add_page_break()\n",
    "        x+=1\n",
    "    documentx.save('static/merge/main.docx')\n"
   ]
  },
  {
   "cell_type": "code",
   "execution_count": null,
   "metadata": {},
   "outputs": [],
   "source": []
  }
 ],
 "metadata": {
  "kernelspec": {
   "display_name": "Python 3",
   "language": "python",
   "name": "python3"
  },
  "language_info": {
   "codemirror_mode": {
    "name": "ipython",
    "version": 3
   },
   "file_extension": ".py",
   "mimetype": "text/x-python",
   "name": "python",
   "nbconvert_exporter": "python",
   "pygments_lexer": "ipython3",
   "version": "3.6.5"
  }
 },
 "nbformat": 4,
 "nbformat_minor": 2
}
