{
 "cells": [
  {
   "cell_type": "markdown",
   "metadata": {},
   "source": [
    "##### The assessors reports are going to be the ones labelled:\n",
    "\n",
    "·         AEOP- The Analyst- Candidate Name\n",
    "\n",
    "·         NARGD- Management Trainee Committee- Candidate Name\n",
    "\n",
    " \n",
    "\n",
    "These are the documents that are going to be merged. Please note the competencies that are being assessed in the various exercises as per the matrix below. Where there is a grey square it means that that competency is not being assessed in that exercise. For example, Planning and Organizing was not assessed in the Group Discussion but was assessed in the Oral Presentation, Leadership was assessed in the Group Discussion but not in the Oral Presentation."
   ]
  },
  {
   "cell_type": "markdown",
   "metadata": {},
   "source": [
    "## to do\n",
    "1.    Write the candidate name (on the first page and as a header for each page)\n",
    "2.    As discussed, ensure that the content for the Group Discussion goes under each of the correct      competencies and Oral Presentation the same.\n",
    "3.    Retain the page title Assessment Centre Overall Performance that page will have graphs which will be added manually (unless you have a suggestion as to how it can be added from excel as well).\n",
    "4.    Retain the last page of the template (the blue one)\n",
    "5.    Download as per the candidate name (not an urgent thing but if it can that’d be great).\n"
   ]
  },
  {
   "cell_type": "markdown",
   "metadata": {},
   "source": [
    "![Image](Capture.png)"
   ]
  },
  {
   "cell_type": "code",
   "execution_count": 2,
   "metadata": {},
   "outputs": [],
   "source": [
    "import docx\n",
    "from docx.api import Document"
   ]
  },
  {
   "cell_type": "code",
   "execution_count": 1,
   "metadata": {},
   "outputs": [],
   "source": [
    "def merge(docv):\n",
    "    files=[\"start.docx\",docv,\"stop.docx\"]\n",
    "    merged_document = Document()\n",
    "    for index, file in enumerate(files):\n",
    "        sub_doc = Document(file)\n",
    "        # Don't add a page break if you've reached the last file.\n",
    "        if index < len(files)-1:\n",
    "            sub_doc.add_page_break()\n",
    "        for element in sub_doc.element.body:\n",
    "            merged_document.element.body.append(element)\n",
    "    merged_document.save('merged.docx')\n",
    "    print(\"merged\")\n"
   ]
  },
  {
   "cell_type": "code",
   "execution_count": 3,
   "metadata": {},
   "outputs": [],
   "source": [
    "def read_table(docv):\n",
    "    document = Document(docv)\n",
    "    table = document.tables[1]\n",
    "    table_info=document.tables[0]\n",
    "    data = []\n",
    "    info=[]\n",
    "    keys = None\n",
    "    for i, row in enumerate(table_info.rows):\n",
    "        text = [cell.text for cell in row.cells]\n",
    "        info.append(text)\n",
    "        \n",
    "    for i, row in enumerate(table.rows):\n",
    "        text = (cell.text for cell in row.cells)\n",
    "        tr=[cell.text for cell in row.cells]\n",
    "        hu=len(tr)\n",
    "        if hu==4:\n",
    "            keys=(\"number\",\"title\",\"comments\",\"no\")\n",
    "        elif hu==3:\n",
    "            keys=(\"number\",\"title\",\"comments\")\n",
    "        elif hu==2:\n",
    "            keys=(\"title\",\"comments\")    \n",
    "        row_data = dict(zip(keys, text))\n",
    "        data.append(row_data)\n",
    "    info=[info[0][1],info[0][3],info[1][1],info[1][3]]\n",
    "    #info candidate,excercise,assesor,date\n",
    "    return [data,info]\n",
    "#print(read_table(\"m.docx\"))"
   ]
  },
  {
   "cell_type": "code",
   "execution_count": 4,
   "metadata": {},
   "outputs": [],
   "source": [
    "def merger(docs=[]):\n",
    "    list_of_data=[]\n",
    "    list_of_names=[]\n",
    "    for z in docs:\n",
    "        name=z.split(\".\")\n",
    "        na=name[0]\n",
    "        k=na.split(\"static/merge/\")\n",
    "        na=k[1]\n",
    "        if \"oral\" in z:\n",
    "            na=\"Oral Presentation\"\n",
    "        elif \"meeting\" in z:\n",
    "            na=\"Meeting\"\n",
    "        list_of_names.append(na)\n",
    "    for x in docs:\n",
    "        list_of_data.append(read_table(x))\n",
    " \n",
    "    documentx = Document(\"static/merge/start.docx\")\n",
    "    documentx.add_page_break()\n",
    "    y=0\n",
    "    #print(list_of_data[0][0])\n",
    "    x=0\n",
    "    op=list_of_data\n",
    "    list_of_comments=[]\n",
    "    k=0\n",
    "    m=0\n",
    "    while True:\n",
    "        templist=[]\n",
    "        try:\n",
    "            for y in op[m]:\n",
    "                templist.append(y['comments'])\n",
    "            list_of_comments.append(templist)\n",
    "        except Exception as e:\n",
    "            break\n",
    "        m+=1\n",
    "        \n",
    "    list_of_titles=[]\n",
    "    k=0\n",
    "    for x in op:\n",
    "        templist=[]\n",
    "        for y in op[0]:\n",
    "            templist.append(y['title'])\n",
    "        list_of_titles.append(templist)\n",
    "        k+=1\n",
    "        list_of_titles=list_of_titles[0]\n",
    "        break\n",
    "    post=0\n",
    "    for data in list_of_data:\n",
    "        com=0\n",
    "        for z in data[0]:\n",
    "            xc=len(data[0])\n",
    "            documentx.add_heading(list_of_titles[post], level=1)\n",
    "            post+=1\n",
    "            y=len(list_of_data)\n",
    "            x=0\n",
    "            while x<len(list_of_data):\n",
    "                print(x,com)\n",
    "                head=list_of_names[x]+'\\n'\n",
    "                p = documentx.add_paragraph('\\n')\n",
    "                p.add_run(head).bold = True\n",
    "                p.add_run(list_of_comments[x][com])\n",
    "                x+=1\n",
    "            com+=1\n",
    "            documentx.add_page_break()\n",
    "        break\n",
    "    documentx.save('static/merge/report.docx')\n"
   ]
  },
  {
   "cell_type": "code",
   "execution_count": null,
   "metadata": {},
   "outputs": [],
   "source": []
  }
 ],
 "metadata": {
  "kernelspec": {
   "display_name": "Python 3",
   "language": "python",
   "name": "python3"
  },
  "language_info": {
   "codemirror_mode": {
    "name": "ipython",
    "version": 3
   },
   "file_extension": ".py",
   "mimetype": "text/x-python",
   "name": "python",
   "nbconvert_exporter": "python",
   "pygments_lexer": "ipython3",
   "version": "3.6.5"
  }
 },
 "nbformat": 4,
 "nbformat_minor": 2
}
