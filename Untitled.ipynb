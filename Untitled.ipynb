{
 "cells": [
  {
   "cell_type": "code",
   "execution_count": 2,
   "metadata": {},
   "outputs": [],
   "source": [
    "import docx\n",
    "import zipfile\n",
    "#doc = docx.Document('ac.docx')\n"
   ]
  },
  {
   "cell_type": "code",
   "execution_count": 1,
   "metadata": {},
   "outputs": [],
   "source": [
    "#headers = [x.blob.decode() for x in doc.part.package.parts if x.partname.find('header')>0]\n",
    "#headers[0]=str(headers[0]).replace(\"Candidate Name\",\"opon\")\n",
    "#headers[0]\n",
    "#print(doc.sections[0].header)"
   ]
  },
  {
   "cell_type": "code",
   "execution_count": 3,
   "metadata": {},
   "outputs": [],
   "source": [
    "def docx_replace(old_file,new_file,rep):\n",
    "    zin = zipfile.ZipFile (old_file, 'r')\n",
    "    zout = zipfile.ZipFile (new_file, 'w')\n",
    "    for item in zin.infolist():\n",
    "        buffer = zin.read(item.filename)\n",
    "        if (item.filename == 'word/document.xml'):\n",
    "            res = buffer.decode(\"utf-8\")\n",
    "            for r in rep:\n",
    "                res = res.replace(r,rep[r])\n",
    "            buffer = res.encode(\"utf-8\")\n",
    "        zout.writestr(item, buffer)\n",
    "    zout.close()\n",
    "    zin.close()"
   ]
  },
  {
   "cell_type": "code",
   "execution_count": 22,
   "metadata": {},
   "outputs": [
    {
     "name": "stdout",
     "output_type": "stream",
     "text": [
      "<class 'str'>\n"
     ]
    }
   ],
   "source": [
    "import zipfile\n",
    "\n",
    "replaceText = {\"NAME\" : \"Nicopon\", \"Candidate\" : \"Yeah\"}\n",
    "templateDocx = zipfile.ZipFile(\"acX.docx\")\n",
    "newDocx = zipfile.ZipFile(\"acd.docx\", \"a\") \n",
    "\n",
    "with open(templateDocx.extract(\"word/document.xml\", \"C:/users/admin/desktop/survey/\")) as tempXmlFile:\n",
    "    tempXmlStr = tempXmlFile.read()\n",
    "#print(tempXmlStr)\n",
    "print(type(tempXmlStr))\n",
    "tempXmlStr=tempXmlStr.replace(\"NAME\",\"Opon\",8)\n",
    "'''\n",
    "for key in replaceText.keys():\n",
    "    tempXmlStr = tempXmlStr.replace(str(key), str(replaceText.get(key)))'''\n",
    "\n",
    "with open(\"C:/users/admin/desktop/survey/temp.xml\", \"w+\") as tempXmlFile:\n",
    "    tempXmlFile.write(tempXmlStr)\n",
    "\n",
    "for file in templateDocx.filelist:\n",
    "    if not file.filename == \"word/document.xml\":\n",
    "        newDocx.writestr(file.filename, templateDocx.read(file))\n",
    "\n",
    "newDocx.write(\"C:/users/admin/desktop/survey/temp.xml\", \"word/document.xml\")\n",
    "\n",
    "templateDocx.close()\n",
    "newDocx.close()"
   ]
  },
  {
   "cell_type": "code",
   "execution_count": 27,
   "metadata": {},
   "outputs": [],
   "source": [
    "import os\n",
    "import shutil\n",
    "import zipfile\n",
    "\n",
    "WORKING_DIR = os.getcwd()\n",
    "TEMP_DOCX = os.path.join(WORKING_DIR, \"acx.docx\")\n",
    "TEMP_ZIP = os.path.join(WORKING_DIR, \"acx.zip\")\n",
    "TEMP_FOLDER = os.path.join(WORKING_DIR, \"acx\")\n",
    "\n",
    "# remove old zip file or folder template\n",
    "if os.path.exists(TEMP_ZIP):\n",
    "    os.remove(TEMP_ZIP)\n",
    "if os.path.exists(TEMP_FOLDER):\n",
    "    shutil.rmtree(TEMP_FOLDER)\n",
    "\n",
    "# reformat template.docx's extension\n",
    "os.rename(TEMP_DOCX, TEMP_ZIP)\n",
    "\n",
    "# unzip file zip to specific folder\n",
    "with zipfile.ZipFile(TEMP_ZIP, 'r') as z:\n",
    "    z.extractall(TEMP_FOLDER)\n",
    "\n",
    "# change header xml file\n",
    "header_xml = os.path.join(TEMP_FOLDER, \"word\", \"header2.xml\")\n",
    "xmlstring = open(header_xml, 'r', encoding='utf-8').read()\n",
    "xmlstring = xmlstring.replace(\"NAME\", \"Hello World!\")\n",
    "with open(header_xml, \"wb\") as f:\n",
    "    f.write(xmlstring.encode(\"UTF-8\"))\n",
    "\n",
    "# zip temp folder to zip file\n",
    "os.remove(TEMP_ZIP)\n",
    "shutil.make_archive(TEMP_ZIP.replace(\".zip\", \"\"), 'zip', TEMP_FOLDER)\n",
    "\n",
    "# rename zip file to docx\n",
    "os.rename(TEMP_ZIP, TEMP_DOCX)\n",
    "shutil.rmtree(TEMP_FOLDER)"
   ]
  },
  {
   "cell_type": "code",
   "execution_count": null,
   "metadata": {},
   "outputs": [],
   "source": []
  }
 ],
 "metadata": {
  "kernelspec": {
   "display_name": "Python 3",
   "language": "python",
   "name": "python3"
  },
  "language_info": {
   "codemirror_mode": {
    "name": "ipython",
    "version": 3
   },
   "file_extension": ".py",
   "mimetype": "text/x-python",
   "name": "python",
   "nbconvert_exporter": "python",
   "pygments_lexer": "ipython3",
   "version": "3.6.5"
  }
 },
 "nbformat": 4,
 "nbformat_minor": 2
}
